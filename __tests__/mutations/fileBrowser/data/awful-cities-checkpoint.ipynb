{
 "cells": [
  {
   "cell_type": "markdown",
   "metadata": {},
   "source": [
    "# Awful Cities\n",
    "\n",
    "This demo notebook uses data pulled from the Overpass API to find \"awful intersections\" in 4 major U.S. cities.\n",
    "\n",
    "It was inspired by code created by [j6k4m8](https://github.com/j6k4m8/) and art by [Barely Maps](https://www.etsy.com/shop/BarelyMaps).\n",
    "\n",
    "The source data is saved in this LabBook's `/input` section. The notebook uses the density, proximity, and location of traffic lights in a city to estimate the awfulness of an intersection. To do this, we compute the distance between all street lights in a city, cluster, and perform some post-processing to pick out awful intersections.\n",
    "\n",
    "You can quickly reproduce the results by running all cells."
   ]
  },
  {
   "cell_type": "code",
   "execution_count": null,
   "metadata": {},
   "outputs": [],
   "source": [
    "%matplotlib inline\n",
    "from IPython.core.display import display, HTML\n",
    "import matplotlib.pyplot as plt\n",
    "import numpy as np\n",
    "import osmnx as ox\n",
    "import glob\n",
    "import os\n",
    "import shutil\n",
    "import json\n",
    "from jinja2 import Template\n",
    "from PIL import Image\n",
    "import imgkit\n",
    "from sklearn.cluster import DBSCAN\n",
    "\n",
    "\n",
    "from awful.distance import get_haversine_distances\n",
    "from awful.viz import clean_name, render_html_template"
   ]
  },
  {
   "cell_type": "code",
   "execution_count": null,
   "metadata": {},
   "outputs": [],
   "source": [
    "# You can easily access the input, code, and output directries using envirnment variables that are set in every LabBook\n",
    "# LB_INPUT -> /input\n",
    "# LB_OUTPUT -> /output\n",
    "# LB_CODE -> /code\n",
    "input_dir = os.environ[\"LB_INPUT\"]\n",
    "output_dir = os.environ[\"LB_OUTPUT\"]\n",
    "code_dir = os.environ[\"LB_CODE\"]"
   ]
  },
  {
   "cell_type": "code",
   "execution_count": null,
   "metadata": {},
   "outputs": [],
   "source": [
    "# Load Data from Input Section of the LabBook\n",
    "data_files = glob.glob(os.path.join(input_dir, \"*.pickle\"))\n",
    "\n",
    "data = dict()\n",
    "for f in data_files:\n",
    "    city = os.path.basename(f).replace(\"_\", \" \").replace(\".pickle\", \"\")\n",
    "    data[city] = np.load(f)\n",
    "    print(f\"Found {len(data[city] )} traffic lights in {city}\")"
   ]
  },
  {
   "cell_type": "code",
   "execution_count": null,
   "metadata": {
    "collapsed": true
   },
   "outputs": [],
   "source": [
    "# Compute the haversine distances for each set of lights lat/long positions\n",
    "traffic_light_distances = dict()\n",
    "for city in data:\n",
    "    city_dist = get_haversine_distances(data[city], data[city])  \n",
    "    traffic_light_distances[city] = city_dist"
   ]
  },
  {
   "cell_type": "code",
   "execution_count": null,
   "metadata": {},
   "outputs": [],
   "source": [
    "# Plot distance matrices\n",
    "plt.figure(figsize = (10,10))\n",
    "for cnt, city in enumerate(traffic_light_distances):\n",
    "    plt.subplot(2, 2, cnt+1)\n",
    "    plt.imshow(traffic_light_distances[city])\n",
    "    plt.gca().set_title(city)"
   ]
  },
  {
   "cell_type": "code",
   "execution_count": null,
   "metadata": {
    "collapsed": true
   },
   "outputs": [],
   "source": [
    "# Threshold distance matrices to only keep lights that are \"close\" to each other\n",
    "distance_threshold_ft = 500\n",
    "distance_threshold_mi = distance_threshold_ft/5280\n",
    "\n",
    "potentials = dict()\n",
    "for city in data:\n",
    "    potentials[city] = traffic_light_distances[city] < distance_threshold_mi "
   ]
  },
  {
   "cell_type": "code",
   "execution_count": null,
   "metadata": {},
   "outputs": [],
   "source": [
    "# Plot thresholded distance matrices\n",
    "plt.figure(figsize = (10,10))\n",
    "for cnt, city in enumerate(potentials):\n",
    "    plt.subplot(2, 2, cnt+1)\n",
    "    plt.imshow(potentials[city])\n",
    "    plt.gca().set_title(city)"
   ]
  },
  {
   "cell_type": "code",
   "execution_count": null,
   "metadata": {},
   "outputs": [],
   "source": [
    "# Zero out the diagonal (distance from a light to itself!) and the bottom half of the distance matrices since it's symmetric\n",
    "plt.figure(figsize = (10,10))\n",
    "for cnt, city in enumerate(potentials):\n",
    "    # Remove diagonal, since a traffic light will always be within distance_threshold_ft from itself!\n",
    "    np.fill_diagonal(potentials[city], False)\n",
    "\n",
    "    # Extract upper triangle only\n",
    "    potentials[city] = np.triu(potentials[city], -1)\n",
    "    \n",
    "    plt.subplot(2, 2, cnt+1)\n",
    "    plt.imshow(potentials[city])\n",
    "    plt.gca().set_title(city)"
   ]
  },
  {
   "cell_type": "code",
   "execution_count": null,
   "metadata": {},
   "outputs": [],
   "source": [
    "# Count candidate lights\n",
    "candidates_lat_long = dict()\n",
    "for cnt, city in enumerate(potentials):\n",
    "    candidates_lat_long[city] = [data[city][r[0]] for r in np.array(np.where(potentials[city] > 0)).T]\n",
    "    candidates_lat_long[city] = np.array(candidates_lat_long[city])\n",
    "    print(f\"Found {len(candidates_lat_long[city])} traffic lights in {city} within {distance_threshold_ft}ft of another light\")"
   ]
  },
  {
   "cell_type": "code",
   "execution_count": null,
   "metadata": {},
   "outputs": [],
   "source": [
    "# Cluster the thresholded distance matrix, to find clusters of lights close to each other\n",
    "# These clusters are a proxy for finding awful intersections\n",
    "clusters = dict()\n",
    "plt.figure(figsize = (10,10))\n",
    "for cnt, city in enumerate(candidates_lat_long):\n",
    "    # Then, cluster:\n",
    "    clusters[city] = DBSCAN(eps=0.001, min_samples=4).fit(candidates_lat_long[city])\n",
    "    \n",
    "    plt.subplot(2, 2, cnt+1)\n",
    "    plt.scatter(*candidates_lat_long[city].T, c=clusters[city].labels_)\n",
    "    plt.gca().set_title(city)"
   ]
  },
  {
   "cell_type": "code",
   "execution_count": null,
   "metadata": {},
   "outputs": [],
   "source": [
    "complex_intersections = dict()\n",
    "for cnt, city in enumerate(clusters):\n",
    "    complex_intersections[city] = [[] for _ in range(np.max(clusters[city].labels_))]\n",
    "    \n",
    "    for i in range(len(candidates_lat_long[city])):\n",
    "        if clusters[city].labels_[i] > -1:\n",
    "            light = candidates_lat_long[city][i]\n",
    "            complex_intersections[city][clusters[city].labels_[i]-1].append(light)\n",
    "            \n",
    "    complex_intersections[city] = np.array([np.array(c) for c in complex_intersections[city]])"
   ]
  },
  {
   "cell_type": "code",
   "execution_count": null,
   "metadata": {},
   "outputs": [],
   "source": [
    "# Get up to 10 intersections with lots of lights for each city (i.e. 10 clusters)\n",
    "sorted_complex_intersections = dict()\n",
    "for cnt, city in enumerate(complex_intersections):\n",
    "    num_lights_per_cluster = [x.shape[0] for x in complex_intersections[city]]\n",
    "\n",
    "    sort_idx = np.array(num_lights_per_cluster).argsort()\n",
    "    sorted_complex_intersections[city] = complex_intersections[city][sort_idx[::-1]]\n",
    "    sorted_complex_intersections[city] = sorted_complex_intersections[city][:10]"
   ]
  },
  {
   "cell_type": "code",
   "execution_count": null,
   "metadata": {},
   "outputs": [],
   "source": [
    "# Then try sorting again on the variance, making more lights spread around more awful\n",
    "for cnt, city in enumerate(complex_intersections):\n",
    "    cluster_variance = [np.var(x) for x in sorted_complex_intersections[city]]\n",
    "    sort_idx = np.array(cluster_variance).argsort()\n",
    "    sorted_complex_intersections[city] = sorted_complex_intersections[city][sort_idx[::-1]]"
   ]
  },
  {
   "cell_type": "code",
   "execution_count": null,
   "metadata": {},
   "outputs": [],
   "source": [
    "# Get centroids of the clusters as a proxy for the location of each intersection\n",
    "intersection_centroids = dict()\n",
    "for cnt, city in enumerate(sorted_complex_intersections):\n",
    "    intersection_centroids[city] = [[np.mean(c[:, 0]), np.mean(c[:, 1])] for c in sorted_complex_intersections[city]]"
   ]
  },
  {
   "cell_type": "code",
   "execution_count": null,
   "metadata": {},
   "outputs": [],
   "source": [
    "# Prep output\n",
    "result_dir = os.path.join(output_dir, \"awful_cities\")\n",
    "img_dir = os.path.join(result_dir, \"images\")\n",
    "\n",
    "# Clean out old results if they are present\n",
    "if os.path.exists(result_dir):\n",
    "    shutil.rmtree(result_dir)\n",
    "\n",
    "# Make output dirs\n",
    "if not os.path.exists(result_dir):\n",
    "    os.makedirs(result_dir)\n",
    "if not os.path.exists(img_dir):\n",
    "    os.makedirs(img_dir)"
   ]
  },
  {
   "cell_type": "code",
   "execution_count": null,
   "metadata": {
    "scrolled": false
   },
   "outputs": [],
   "source": [
    "# Generate images and links to google maps for each intersection\n",
    "plot_radius_meters = ((distance_threshold_ft/ 2) * 0.3048) + 50\n",
    "fnames = []\n",
    "\n",
    "cwd = os.getcwd()\n",
    "os.chdir(result_dir)\n",
    "intersection_result = dict()\n",
    "for city in intersection_centroids:\n",
    "    display(HTML(f\"<h2>{city}</h2>\"))\n",
    "    \n",
    "    intersection_result[city] = list()\n",
    "    count = 0\n",
    "    for ci in intersection_centroids[city]:\n",
    "        gg = ox.graph_from_point(ci, distance=plot_radius_meters, simplify=False, truncate_by_edge=True, distance_type='bbox',\n",
    "                                 clean_periphery=True, retain_all=False)\n",
    "        rds = set([e[2].get('name') for e in gg.edges(data=True)])\n",
    "        if None in rds:\n",
    "            rds.remove(None)\n",
    "            \n",
    "        if len(rds) == 0:\n",
    "            continue\n",
    "            \n",
    "        rds = [clean_name(r) for r in rds]\n",
    "        if len(rds) > 5:\n",
    "            rd_names = \"{}, {} & {}\".format(\", \".join(rds[:3]), rds[-1], \"and more\")\n",
    "        elif len(rds) > 1:\n",
    "            rd_names = \"{} & {}\".format(\", \".join(rds[:-1]), rds[-1])\n",
    "        else:\n",
    "            rd_names = rds[0]\n",
    "\n",
    "        display(HTML(f\"<a href='http://maps.google.com/maps?q={ci[0]},{ci[1]}'>{rd_names}</a>\"))\n",
    "\n",
    "        fname = f\"{city}_{rds[-1].replace(' ', '_')}_{count}\" \n",
    "        fnames.append((fname, rd_names))\n",
    "        intersection_result[city].append((fname, rd_names))\n",
    "\n",
    "        ox.plot_graph(\n",
    "            gg, \n",
    "            fig_height=5, fig_width=5, bgcolor=\"#55555500\", \n",
    "            node_size=0, edge_linewidth=6, edge_color=\"#1AD8C1\",\n",
    "            use_geom=True, \n",
    "            save=True, filename=fname\n",
    "        )\n",
    "        \n",
    "        count += 1\n",
    "        if count >= 3:\n",
    "            break\n",
    "    \n",
    "os.chdir(cwd)"
   ]
  },
  {
   "cell_type": "code",
   "execution_count": null,
   "metadata": {},
   "outputs": [],
   "source": [
    "# Render a pretty picture, inspired by https://www.etsy.com/shop/BarelyMaps \n",
    "\n",
    "# First, let's render an html page to do the styling\n",
    "args = {\"intersection_results\": intersection_result}\n",
    "with open(os.path.join(result_dir, \"index.html\"), 'wt') as hf:\n",
    "    hf.write(render_html_template(os.path.join(code_dir, \"multi_template.html\"), args))"
   ]
  },
  {
   "cell_type": "code",
   "execution_count": null,
   "metadata": {},
   "outputs": [],
   "source": [
    "# Save html page to an image using imgkit\n",
    "final_img = os.path.join(output_dir, 'awful_cities.jpeg')\n",
    "imgkit.from_file(os.path.join(result_dir, 'index.html'), final_img, options = {'format': 'jpeg', 'quality': 98})\n",
    "print(\"Full-res image available in /output/awful_cities.jpeg\")\n",
    "\n",
    "# Show final image\n",
    "display(Image.open(final_img))"
   ]
  },
  {
   "cell_type": "code",
   "execution_count": null,
   "metadata": {},
   "outputs": [],
   "source": []
  }
 ],
 "metadata": {
  "kernelspec": {
   "display_name": "Python 3",
   "language": "python",
   "name": "python3"
  },
  "language_info": {
   "codemirror_mode": {
    "name": "ipython",
    "version": 3
   },
   "file_extension": ".py",
   "mimetype": "text/x-python",
   "name": "python",
   "nbconvert_exporter": "python",
   "pygments_lexer": "ipython3",
   "version": "3.6.4"
  }
 },
 "nbformat": 4,
 "nbformat_minor": 2
}
